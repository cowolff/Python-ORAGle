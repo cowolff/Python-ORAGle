{
 "cells": [
  {
   "cell_type": "markdown",
   "metadata": {},
   "source": [
    "### Import Statements"
   ]
  },
  {
   "cell_type": "code",
   "execution_count": 1,
   "metadata": {},
   "outputs": [],
   "source": [
    "import requests\n",
    "import fitz  # PyMuPDF\n",
    "import re"
   ]
  },
  {
   "cell_type": "code",
   "execution_count": 2,
   "metadata": {},
   "outputs": [
    {
     "name": "stdout",
     "output_type": "stream",
     "text": [
      "fatal: destination path 'gemma_pytorch' already exists and is not an empty directory.\n"
     ]
    }
   ],
   "source": [
    "!pip install -q -U immutabledict sentencepiece\n",
    "!git clone https://github.com/google/gemma_pytorch.git"
   ]
  },
  {
   "cell_type": "markdown",
   "metadata": {},
   "source": [
    "### Data Retriaval\n",
    "Download of the pdf file(s)"
   ]
  },
  {
   "cell_type": "code",
   "execution_count": 2,
   "metadata": {},
   "outputs": [
    {
     "name": "stdout",
     "output_type": "stream",
     "text": [
      "Chunk 1: Python Tutorial Release 3.7.0 Guido van Rossum and the Python development team September 02, 2018 Py...\n",
      "Chunk 2: 19 4.2 for Statements . . . . . . . . . . . . . . . . . . . . . . . . . . . . . . . . . . . . . . . ...\n",
      "Chunk 3: . 24 4.8 Intermezzo: Coding Style . . . . . . . . . . . . . . . . . . . . . . . . . . . . . . . . . ...\n",
      "Chunk 4: . . . . . . . . . . . . . . . . . . . . . . . . . . . . . . . . . . . 38 5.6 Looping Techniques . . ...\n",
      "Chunk 5: . . . 46 6.3 The dir() Function . . . . . . . . . . . . . . . . . . . . . . . . . . . . . . . . . . ...\n",
      "Chunk 6: . . . . . . . . . . . . . . . . . . . . . . . . . . . . . . . . . . . . 61 8.3 Handling Exceptions ....\n",
      "Chunk 7: 69 9.1 A Word About Names and Objects . . . . . . . . . . . . . . . . . . . . . . . . . . . . . . . ...\n",
      "Chunk 8: . . . . . . . . . . . . 78 9.7 Odds and Ends . . . . . . . . . . . . . . . . . . . . . . . . . . . ....\n",
      "Chunk 9: File Wildcards . . . . . . . . . . . . . . . . . . . . . . . . . . . . . . . . . . . . . . . . . . ....\n",
      "Chunk 10: . . 85 10.8 Dates and Times . . . . . . . . . . . . . . . . . . . . . . . . . . . . . . . . . . . . ...\n",
      "Chunk 11: . . . . . . . . . . . . . . . . . . . . . . . . . . . . . . 89 11.2 Templating . . . . . . . . . . ....\n",
      "Chunk 12: . . . 93 11.7 Tools for Working with Lists . . . . . . . . . . . . . . . . . . . . . . . . . . . . ....\n",
      "Chunk 13: . . . . . . . . . . . . . . . 103 14.2 Alternatives to the Interactive Interpreter . . . . . . . . ....\n",
      "Chunk 14: using Python . . . . . . . . . . . . . . . . . 130 C.3 Licenses and Acknowledgements for Incorporate...\n",
      "Chunk 15: of the language. To write extensions in C or C++, read extending-index and c-api-index. There are al...\n",
      "Chunk 16: for you. You could write a Unix shell script or Windows batch ﬁles for some of these tasks, but shel...\n",
      "Chunk 17: you considerable time during program development because no compilation and linking is necessary. Th...\n",
      "Chunk 18: best way to learn a language is to use it, the tutorial invites you to play with the Python interpre...\n",
      "Chunk 19: the following command: quit(). The interpreter’s line-editing features include interactive editing, ...\n",
      "Chunk 20: be done by passing -i before the script. 1 On Unix, the Python 3.x interpreter is by default not ins...\n",
      "Chunk 21: Python 3.7 (default, Sep 16 2015, 09:25:04) [GCC 4.8.2] on linux Type \"help\", \"copyright\", \"credits\"...\n",
      "Chunk 22: line. In this case, the encoding declaration should be added as the second line of the ﬁle. For exam...\n",
      "Chunk 23: try some simple Python commands. Start the interpreter and wait for the primary prompt, >>>. (It sho...\n",
      "Chunk 24: of 7 128 The equal sign (=) is used to assign a value to a variable. Afterwards, no result is displa...\n",
      "Chunk 25: types of numbers, such as Decimal and Fraction. Python also has built-in support for complex numbers...\n",
      "Chunk 26: characters prefaced by \\ to be interpreted as special characters, you can use raw strings by adding ...\n",
      "Chunk 27: ... 'to have them joined together.') >>> text 'Put several strings within parentheses to have them j...\n",
      "Chunk 28: word[4:] 'Python' Slice indices have useful defaults; an omitted ﬁrst index defaults to zero, an omi...\n",
      "Chunk 29: However, out of range slice indexes are handled gracefully when used for slicing: >>> word[4:42] 'on...\n",
      "Chunk 30: # indexing returns the item 1 >>> squares[-1] (continues on next page) 14 Chapter 3. An Informal Int...\n",
      "Chunk 31: 'E'] >>> letters ['a', 'b', 'C', 'D', 'E', 'f', 'g'] >>> # now remove them >>> letters[2:5] = [] >>>...\n",
      "Chunk 32: evaluated from the left to the right. • The while loop executes as long as the condition (here: a < ...\n",
      "Chunk 33: and a space is inserted between items, so you can format things nicely, like this: 16 Chapter 3. An ...\n",
      "Chunk 34: what you may be used to in C or Pascal. Rather than always iterating over an arithmetic progression ...\n",
      "Chunk 35: of a sequence of length 10. It is possible to let the range start at another number, or to specify a...\n",
      "Chunk 36: argument. 4.4 break and continue Statements, and else Clauses on Loops The break statement, like in ...\n",
      "Chunk 37: loop: >>> for num in range(2, 10): ... if num % 2 == 0: ... print(\"Found an even number\", num) ... c...\n",
      "Chunk 38: fib(2000) 0 1 1 2 3 5 8 13 21 34 55 89 144 233 377 610 987 1597 The keyword def introduces a functio...\n",
      "Chunk 39: thus, arguments are passed using call by value (where the value is always an object reference, not t...\n",
      "Chunk 40: n: ... result.append(a) # see below ... a, b = b, a+b ... return result ... >>> f100 = fib2(100) # c...\n",
      "Chunk 41: of arguments. There are three forms, which can be combined. 4.7.1 Default Argument Values The most u...\n",
      "Chunk 42: [1] [1, 2] [1, 2, 3] If you don’t want the default to be shared between subsequent calls, you can wr...\n",
      "Chunk 43: example that fails due to this restriction: 4.7. More on Deﬁning Functions 25 Python Tutorial, Relea...\n",
      "Chunk 44: used option is to specify that a function can be called with an arbitrary number of arguments. These...\n",
      "Chunk 45: voltage, \"volts through it.\", end=' ') ... print(\"E's\", state, \"!\") ... >>> d = {\"voltage\": \"four mi...\n",
      "Chunk 46: and end with a period. If there are more lines in the documentation string, the second line should b...\n",
      "Chunk 47: a dictionary and have no eﬀect on any other part of the function. Parameter annotations are deﬁned b...\n",
      "Chunk 48: no tabs. 4 spaces are a good compromise between small indentation (allows greater nesting depth) and...\n",
      "Chunk 49: more methods. Here are all of the methods of list objects: list.append(x) Add an item to the end of ...\n",
      "Chunk 50: list.count(x) Return the number of times x appears in the list. list.sort(key=None, reverse=False) S...\n",
      "Chunk 51: 7 >>> stack [3, 4, 5, 6] >>> stack.pop() 6 >>> stack.pop() 5 >>> stack [3, 4] 1 Other languages may ...\n",
      "Chunk 52: ... squares.append(x**2) ... >>> squares [0, 1, 4, 9, 16, 25, 36, 49, 64, 81] Note that this creates...\n",
      "Chunk 53: with the values doubled >>> [x*2 for x in vec] [-8, -4, 0, 4, 8] >>> # filter the list to exclude ne...\n",
      "Chunk 54: ... [1, 2, 3, 4], ... [5, 6, 7, 8], (continues on next page) 34 Chapter 5. Data Structures Python Tu...\n",
      "Chunk 55: pop() method which returns a value. The del statement can also be used to remove slices from a list ...\n",
      "Chunk 56: item assignment >>> # but they can contain mutable objects: ... v = ([1, 2, 3], [3, 2, 1]) >>> v ([1...\n",
      "Chunk 57: page) 0 >>> len(singleton) 1 >>> singleton ('hello',) The statement t = 12345, 54321, 'hello!' is an...\n",
      "Chunk 58: >>> a - b # letters in a but not in b {'r', 'd', 'b'} >>> a | b # letters in a or b or both {'a', 'c...\n",
      "Chunk 59: adds initial key:value pairs to the dictionary; this is also the way dictionaries are written on out...\n",
      "Chunk 60: using keyword arguments: >>> dict(sape=4139, guido=4127, jack=4098) {'sape': 4139, 'guido': 4127, 'j...\n",
      "Chunk 61: f in sorted(set(basket)): ... print(f) ... apple banana orange pear 5.6. Looping Techniques 39 Pytho...\n",
      "Chunk 62: operators and and or are so-called short-circuit operators: their arguments are evaluated from left ...\n",
      "Chunk 63: sequence is the smaller (lesser) 40 Chapter 5. Data Structures Python Tutorial, Release 3.7.0 one. L...\n",
      "Chunk 64: copying its deﬁnition into each program. To support this, Python has a way to put deﬁnitions in a ﬁl...\n",
      "Chunk 65: 5 8 13 21 34 55 89 144 233 377 610 987 >>> fibo.fib2(100) (continues on next page) 43 Python Tutoria...\n",
      "Chunk 66: from a module directly into the importing module’s symbol table. For example: >>> from fibo import f...\n",
      "Chunk 67: module in the same way that import fibo will do, with the only diﬀerence of it being available as fi...\n",
      "Chunk 68: interpreter ﬁrst searches for a built-in module with that name. If not found, it then searches for a...\n",
      "Chunk 69: to coexist. Python checks the modiﬁcation date of the source against the compiled version to see if ...\n",
      "Chunk 70: this process, including a ﬂow chart of the decisions, in PEP 3147. 6.2 Standard Modules Python comes...\n",
      "Chunk 71: of strings: >>> import fibo, sys >>> dir(fibo) ['__name__', 'fib', 'fib2'] >>> dir(sys) ['__displayh...\n",
      "Chunk 72: 'bytes', 'callable', 'chr', 'classmethod', 'compile', 'complex', 'copyright', 'credits', 'delattr', ...\n",
      "Chunk 73: terms of a hierarchical ﬁlesystem): sound/ Top-level package __init__.py Initialize the sound packag...\n",
      "Chunk 74: item, the item can be either a submodule (or subpackage) of the package, or some other name deﬁned i...\n",
      "Chunk 75: not to support it, if they don’t see a use for importing * from their package. For example, the ﬁle ...\n",
      "Chunk 76: refer to submodules of siblings packages. For example, if the module sound.filters. vocoder needs to...\n",
      "Chunk 77: of the possibilities. 7.1 Fancier Output Formatting So far we’ve encountered two ways of writing val...\n",
      "Chunk 78: some variables for debugging purposes, you can convert any value to a string with the repr() or str(...\n",
      "Chunk 79: Literals Formatted string literals (also called f-strings for short) let you include the value of Py...\n",
      "Chunk 80: number in the brackets can be used to refer to the position of the object passed into the str.format...\n",
      "Chunk 81: {1:3d} {2:4d}'.format(x, x*x, x*x*x)) ... 1 1 1 2 4 8 3 9 27 4 16 64 5 25 125 (continues on next pag...\n",
      "Chunk 82: on the left with zeros. It understands about plus and minus signs: >>> '12'.zfill(5) '00012' >>> '-3...\n",
      "Chunk 83: is platform dependent (see open()). 'b' appended to the mode opens the ﬁle in binary mode: now the d...\n",
      "Chunk 84: with statement or by calling f.close(), attempts to use the ﬁle object will automatically fail. >>> ...\n",
      "Chunk 85: f.readline() 'Second line of the file\\n' >>> f.readline() '' For reading lines from a ﬁle, you can l...\n",
      "Chunk 86: f = open('workfile', 'rb+') >>> f.write(b'0123456789abcdef') (continues on next page) 58 Chapter 7. ...\n",
      "Chunk 87: them to string represen- tations; this process is called serializing. Reconstructing the data from t...\n",
      "Chunk 88: from an untrusted source can execute arbitrary code, if the data was crafted by a skilled attacker. ...\n",
      "Chunk 89: last): File \"<stdin>\", line 1, in <module> ZeroDivisionError: division by zero >>> 4 + spam*3 Traceb...\n",
      "Chunk 90: a user-generated interruption is signalled by raising the KeyboardInterrupt exception. >>> while Tru...\n",
      "Chunk 91: except clause listing a derived class is not compatible with a base class). For example, the followi...\n",
      "Chunk 92: code to the try clause because it avoids acciden- tally catching an exception that wasn’t raised by ...\n",
      "Chunk 93: >>> try: ... this_fails() ... except ZeroDivisionError as err: ... print('Handling run-time error:',...\n",
      "Chunk 94: be extracted by handlers for the exception. When creating a module that can raise several distinct e...\n",
      "Chunk 95: statement, whether an exception has occurred or not. When an exception has occurred in the try claus...\n",
      "Chunk 96: or failed. Look at the following example, which tries to open a ﬁle and print its contents to the sc...\n",
      "Chunk 97: all the standard features of Object Oriented Programming: the class inheritance mechanism allows mul...\n",
      "Chunk 98: is known as aliasing in other languages. This is usually not appreciated on a ﬁrst glance at Python,...\n",
      "Chunk 99: the set of attributes of an object also form a namespace. The important thing to know about namespac...\n",
      "Chunk 100: or interactively, are considered part of a module called __main__, so they have their own global nam...\n",
      "Chunk 101: new local variable in the innermost scope, leaving the identically named outer variable unchanged). ...\n",
      "Chunk 102: all operations that introduce new names use the local scope: in particular, import statements and fu...\n",
      "Chunk 103: this: class ClassName: <statement-1> . . . <statement-N> Class deﬁnitions, like function deﬁnitions ...\n",
      "Chunk 104: namespace when the class object was created. So, if the class deﬁnition looked like this: class MyCl...\n",
      "Chunk 105: x = Complex(3.0, -4.5) >>> x.r, x.i (3.0, -4.5) 9.3.3 Instance Objects Now what can we do with insta...\n",
      "Chunk 106: not a function object. 9.3. A First Look at Classes 73 Python Tutorial, Release 3.7.0 9.3.4 Method O...\n",
      "Chunk 107: attribute that is a function object, a method object is created by packing (pointers to) the instanc...\n",
      "Chunk 108: >>> d.add_trick('roll over') >>> e.add_trick('play dead') >>> d.tricks # unexpectedly shared by all ...\n",
      "Chunk 109: data attributes. Note that clients may add data attributes of their own to an instance object withou...\n",
      "Chunk 110: usually only serves to confuse the reader of a program. Methods may call other methods by using meth...\n",
      "Chunk 111: another module: class DerivedClassName(modname.BaseClassName): Execution of a derived class deﬁnitio...\n",
      "Chunk 112: inheritance: • Use isinstance() to check an instance’s type: isinstance(obj, int) will be True only ...\n",
      "Chunk 113: inherit from object, so any case of multiple inheritance provides more than one path to reach object...\n",
      "Chunk 114: mangling is helpful for letting subclasses override methods without breaking intraclass method calls...\n",
      "Chunk 115: that emulates the methods of that data type instead. For instance, if you have a function that forma...\n",
      "Chunk 116: call last): File \"<stdin>\", line 1, in <module> next(it) StopIteration Having seen the mechanics beh...\n",
      "Chunk 117: This made the function easier to write and much more clear than an approach using instance variables...\n",
      "Chunk 118: Return the current working directory 'C:\\\\Python37' >>> os.chdir('/server/accesslogs') # Change curr...\n",
      "Chunk 119: is useful for emitting warnings and error messages to make them visible even when stdout has been re...\n",
      "Chunk 120: The SciPy project <https://scipy.org> has many other modules for numerical computations. 10.7 Intern...\n",
      "Chunk 121: >>> age.days 14368 10.9 Data Compression Common data archiving and compression formats are directly ...\n",
      "Chunk 122: an example and it allows the doctest module to make sure the code remains true to the documentation:...\n",
      "Chunk 123: the xml.etree.ElementTree, xml.dom and xml.sax packages. Together, these modules and packages greatl...\n",
      "Chunk 124: one big string with newlines to separate ... the wrapped lines.\"\"\" ... >>> print(textwrap.fill(doc, ...\n",
      "Chunk 125: >>> t = Template('Return the $item to $owner.') >>> d = dict(item='unladen swallow') >>> t.substitut...\n",
      "Chunk 126: they are standard size and in little-endian byte order: import struct with open('myfile.zip', 'rb') ...\n",
      "Chunk 127: and semaphores. While those tools are powerful, minor design errors can result in problems that are ...\n",
      "Chunk 128: This approach works ﬁne for most applications but occasionally there is a need to track objects only...\n",
      "Chunk 129: unsigned binary numbers (typecode \"H\") rather than the usual 16 bytes per entry for regular lists of...\n",
      "Chunk 130: entry >>> [heappop(data) for i in range(3)] # fetch the three smallest entries [-5, 0, 1] 11.8 Decim...\n",
      "Chunk 131: getcontext().prec = 36 >>> Decimal(1) / Decimal(7) Decimal('0.142857142857142857142857142857142857')...\n",
      "Chunk 132: version of Python that you have available. If you have multiple versions of Python on your system, y...\n",
      "Chunk 133: limited search feature: (tutorial-env) $ pip search astronomy skyfield - Elegant astronomy for Pytho...\n",
      "Chunk 134: pip show requests --- Metadata-Version: 2.0 Name: requests Version: 2.7.0 Summary: Python HTTP for H...\n",
      "Chunk 135: you go to learn more? This tutorial is part of Python’s documentation set. Some other documents in t...\n",
      "Chunk 136: also titled Python Cookbook (O’Reilly & Associates, ISBN 0-596-00797-3.) • http://www.pyvideo.org co...\n",
      "Chunk 137: Tab key invokes the completion function; it looks at Python statement names, the current local varia...\n",
      "Chunk 138: 5/1000, and in the same way the binary fraction 0.001 has value 0/2 + 0/4 + 1/8. These two fractions...\n",
      "Chunk 139: not aware of the approximation because of the way values are displayed. Python only prints a decimal...\n",
      "Chunk 140: (although some languages may not display the diﬀerence by default, or in all output modes). For more...\n",
      "Chunk 141: the end, “there are no easy answers.” Still, don’t be unduly wary of ﬂoating-point! The errors in Py...\n",
      "Chunk 142: x.as_integer_ratio() (3537115888337719, 1125899906842624) Since the ratio is exact, it can be used t...\n",
      "Chunk 143: a binary fraction. Almost all machines today (November 2000) use IEEE-754 ﬂoating point arithmetic, ...\n",
      "Chunk 144: can get: >>> 0.1 * 2 ** 55 3602879701896397.0 If we multiply that fraction by 10**55, we can see the...\n",
      "Chunk 145: the interrupt character (usually Control-C or Delete) to the primary or secondary prompt cancels the...\n",
      "Chunk 146: 3.7.0 to the name of a ﬁle containing your start-up commands. This is similar to the .profile featur...\n",
      "Chunk 147: by an administrator of the computer in the global site-packages directory, and is imported before us...\n",
      "Chunk 148: attribute or a function parameter or return value, used by convention as a type hint. Annotations of...\n",
      "Chunk 149: state- ment by deﬁning __aenter__() and __aexit__() methods. Introduced by PEP 492. asynchronous gen...\n",
      "Chunk 150: an object which is referenced by name using dotted expressions. For example, if an object o has an a...\n",
      "Chunk 151: is also cached in .pyc ﬁles so that executing the same ﬁle is faster the second time (recompilation ...\n",
      "Chunk 152: unit (the square root of -1), often written i in mathematics or j in engineering. Python has built-i...\n",
      "Chunk 153: The canonical implementation of the Python programming language, as distributed on python.org. The t...\n",
      "Chunk 154: called dictionary views. They provide a dynamic view on the dictionary’s entries, which means that w...\n",
      "Chunk 155: value. In other words, an expression is an accumulation of expression elements like literals, names,...\n",
      "Chunk 156: ﬁnders for use with sys.path_hooks. See PEP 302, PEP 420 and PEP 451 for much more detail. ﬂoor divi...\n",
      "Chunk 157: garbage collection via reference counting and a cyclic garbage collector that is able to detect and ...\n",
      "Chunk 158: lock The mechanism used by the CPython interpreter to assure that only one thread executes Python by...\n",
      "Chunk 159: lists or dictio- naries) are not. Objects which are instances of user-deﬁned classes are hashable by...\n",
      "Chunk 160: language, as opposed to a compiled one, though the distinction can be blurry because of the presence...\n",
      "Chunk 161: it returns an iterator for the object. This iterator is good for one pass over the set of values. Wh...\n",
      "Chunk 162: a sort key that is aware of locale speciﬁc sort conventions. A number of tools in Python accept key ...\n",
      "Chunk 163: languages than to a linked list since access to elements is O(1). list comprehension A compact way t...\n",
      "Chunk 164: adding thread-safety, tracking object creation, implementing singletons, and many other tasks. More ...\n",
      "Chunk 165: self-documenting representation like Employee(name='jones', title='programmer'). 120 Appendix A. Glo...\n",
      "Chunk 166: deﬁned behavior (methods). Also the ultimate base class of any new-style class. package A Python mod...\n",
      "Chunk 167: parameters). Such a parameter can be deﬁned by prepending the parameter name with **, for example kw...\n",
      "Chunk 168: describing a new feature for Python or its processes or environment. PEPs should provide a concise t...\n",
      "Chunk 169: the Python 3.x release line (coined long ago when the release of version 3 was something in the dist...\n",
      "Chunk 170: deﬁnes a getrefcount() function that programmers can call to return the reference count for a partic...\n",
      "Chunk 171: to execute a certain operation on a type, such as addition. Such methods have names starting and end...\n",
      "Chunk 172: when writing docstrings. type The type of a Python object determines what kind of object it is; ever...\n",
      "Chunk 173: a variable or a class attribute, assignment is optional: class C: field: 'annotation' Variable annot...\n",
      "Chunk 174: his Alternative Python Reference project from which Sphinx got many good ideas. B.1 Contributors to ...\n",
      "Chunk 175: summarizes the various releases. Release Derived from Year Owner GPL compatible? 0.9.0 thru 1.2 n/a ...\n",
      "Chunk 176: All Rights Reserved\" are retained in Python 3.7.0 alone or in any derivative version prepared by Lic...\n",
      "Chunk 177: 3.7.0, Licensee agrees to be bound by the terms and conditions of this License Agreement. C.2.2 BEOP...\n",
      "Chunk 178: IF ADVISED OF THE POSSIBILITY THEREOF. 5. This License Agreement will automatically terminate upon a...\n",
      "Chunk 179: 1995-2001 Corporation for National Research Initiatives; All Rights Reserved\" are retained in Python...\n",
      "Chunk 180: LOSS AS A RESULT OF MODIFYING, DISTRIBUTING, OR OTHERWISE USING PYTHON 1.6.1, OR ANY DERIVATIVE THER...\n",
      "Chunk 181: use, copy, modify, and distribute this software and its documentation for any purpose and without fe...\n",
      "Chunk 182: source and binary forms, with or without modification, are permitted provided that the following con...\n",
      "Chunk 183: the WIDE Project, http://www.wide.ad.jp/. Copyright (C) 1995, 1996, 1997, and 1998 WIDE Project. All...\n",
      "Chunk 184: distribute this software and its documentation for any purpose and without fee is hereby granted, pr...\n",
      "Chunk 185: MERCHANTABILITY AND FITNESS, IN NO EVENT SHALL Timothy O'Malley BE LIABLE FOR ANY SPECIAL, INDIRECT ...\n",
      "Chunk 186: to use, copy, modify, and distribute this software and its documentation for any purpose and without...\n",
      "Chunk 187: and conditions: Permission to use, copy, modify, and distribute this software and its associated doc...\n",
      "Chunk 188: Software. THE SOFTWARE IS PROVIDED \"AS IS\", WITHOUT WARRANTY OF ANY KIND, EXPRESS OR IMPLIED, INCLUD...\n",
      "Chunk 189: SUBSTITUTE GOODS OR SERVICES; LOSS OF USE, DATA, OR PROFITS; OR BUSINESS INTERRUPTION) HOWEVER CAUSE...\n",
      "Chunk 190: of this software is David M. Gay. * * Copyright (c) 1991, 2000, 2001 by Lucent Technologies. * * Per...\n",
      "Chunk 191: * modification, are permitted provided that the following conditions * are met: * * 1. Redistributio...\n",
      "Chunk 192: A PARTICULAR * PURPOSE ARE DISCLAIMED. IN NO EVENT SHALL THE OpenSSL PROJECT OR * ITS CONTRIBUTORS B...\n",
      "Chunk 193: * If this package is used in a product, Eric Young should be given attribution * as the author of th...\n",
      "Chunk 194: THE * IMPLIED WARRANTIES OF MERCHANTABILITY AND FITNESS FOR A PARTICULAR PURPOSE * ARE DISCLAIMED. I...\n",
      "Chunk 195: Python Tutorial, Release 3.7.0 (continued from previous page) The above copyright notice and this pe...\n",
      "Chunk 196: HOLDERS BE LIABLE FOR ANY CLAIM, DAMAGES OR OTHER LIABILITY, WHETHER IN AN ACTION OF CONTRACT, TORT ...\n",
      "Chunk 197: Owens All rights reserved. This code is released under the BSD license: Redistribution and use in so...\n",
      "Chunk 198: build is conﬁgured --with-system-libmpdec: Copyright (c) 2008-2016 Stefan Krah. All rights reserved....\n",
      "Chunk 199: Python Tutorial, Release 3.7.0 146 Appendix D. Copyright INDEX Symbols * statement, 26 ** statement,...\n",
      "Chunk 200: lambda, 119 LBYL, 119 list, 120 list comprehension, 120 loader, 120 M mapping, 120 meta path ﬁnder, ...\n",
      "Chunk 201: module, 46 T text encoding, 124 text ﬁle, 124 triple-quoted string, 124 type, 124 type alias, 124 ty...\n"
     ]
    }
   ],
   "source": [
    "pdf_url = \"https://bugs.python.org/file47781/Tutorial_EDIT.pdf\"\n",
    "\n",
    "def download_pdf(url):\n",
    "    response = requests.get(url)\n",
    "    with open('temp.pdf', 'wb') as f:\n",
    "        f.write(response.content)\n",
    "    return 'temp.pdf'\n",
    "\n",
    "def pdf_to_text(filename):\n",
    "    doc = fitz.open(filename)\n",
    "    text = \"\"\n",
    "    for page in doc:\n",
    "        text += page.get_text()\n",
    "    return text\n",
    "\n",
    "def clean_text(text):\n",
    "    # Remove double spaces\n",
    "    return re.sub(' +', ' ', text)\n",
    "\n",
    "def split_text_into_chunks(text, num_chunks):\n",
    "    words = text.split()\n",
    "    chunk_size = len(words) // num_chunks\n",
    "    chunks = [' '.join(words[i:i + chunk_size]) for i in range(0, len(words), chunk_size)]\n",
    "    return chunks\n",
    "\n",
    "pdf_file = download_pdf(pdf_url)\n",
    "pdf_text = pdf_to_text(pdf_file)\n",
    "clean_pdf_text = clean_text(pdf_text)\n",
    "\n",
    "# Decide on the number of chunks you want\n",
    "num_chunks = 200\n",
    "chunks = split_text_into_chunks(clean_pdf_text, num_chunks)\n",
    "\n",
    "# This will print the chunks, you can process them further as needed\n",
    "for i, chunk in enumerate(chunks, 1):\n",
    "    print(f\"Chunk {i}: {chunk[:100]}...\")  # Printing the first 100 characters of each chunk for brevity\n"
   ]
  },
  {
   "cell_type": "markdown",
   "metadata": {},
   "source": [
    "### Data Cleaning\n",
    "Using the 7B instruct model"
   ]
  },
  {
   "cell_type": "code",
   "execution_count": 3,
   "metadata": {},
   "outputs": [],
   "source": [
    "from gemma_pytorch.gemma.config import get_config_for_7b\n",
    "from gemma_pytorch.gemma.model import GemmaForCausalLM\n",
    "import contextlib\n",
    "import os\n",
    "import torch\n",
    "\n",
    "from IPython.display import Markdown as md"
   ]
  },
  {
   "cell_type": "code",
   "execution_count": 4,
   "metadata": {},
   "outputs": [],
   "source": [
    "VARIANT = \"7b-it-quant\" \n",
    "MACHINE_TYPE = \"mps\" \n",
    "weights_dir = 'archive/'"
   ]
  },
  {
   "cell_type": "code",
   "execution_count": 5,
   "metadata": {},
   "outputs": [],
   "source": [
    "@contextlib.contextmanager\n",
    "def _set_default_tensor_type(dtype: torch.dtype):\n",
    "    \"\"\"Sets the default torch dtype to the given dtype.\"\"\"\n",
    "    torch.set_default_dtype(dtype)\n",
    "    yield\n",
    "    torch.set_default_dtype(torch.float)"
   ]
  },
  {
   "cell_type": "code",
   "execution_count": 7,
   "metadata": {},
   "outputs": [],
   "source": [
    "# Model Config.\n",
    "model_config = get_config_for_7b()\n",
    "model_config.tokenizer = os.path.join(weights_dir, \"tokenizer.model\")\n",
    "model_config.quant = \"quant\" in VARIANT"
   ]
  },
  {
   "cell_type": "code",
   "execution_count": 8,
   "metadata": {},
   "outputs": [],
   "source": [
    "device = torch.device(MACHINE_TYPE)\n",
    "with _set_default_tensor_type(model_config.get_dtype()):\n",
    "    model = GemmaForCausalLM(model_config)\n",
    "    ckpt_path = os.path.join(weights_dir, f'gemma-{VARIANT}.ckpt')\n",
    "    model.load_weights(ckpt_path)\n",
    "    model = model.to(device).eval()"
   ]
  },
  {
   "cell_type": "code",
   "execution_count": null,
   "metadata": {},
   "outputs": [],
   "source": [
    "USER_CHAT_TEMPLATE = \"<start_of_turn>user\\n{prompt}<end_of_turn>\\n\"\n",
    "MODEL_CHAT_TEMPLATE = \"<start_of_turn>model\\n{prompt}<end_of_turn>\\n\"\n",
    "\n",
    "USER_PROMPT = \"How to join a competition on the Kaggle platform?\"\n",
    "\n",
    "prompt = (\n",
    "    USER_CHAT_TEMPLATE.format(prompt=USER_PROMPT)\n",
    "    + MODEL_CHAT_TEMPLATE.format(prompt=\"Kaggle Platform.\")\n",
    "    + \"<start_of_turn>model\\n\"\n",
    ")\n",
    "\n",
    "result = model.generate(\n",
    "    USER_CHAT_TEMPLATE.format(prompt=prompt),\n",
    "    device=device,\n",
    "    output_len=1000,\n",
    ")"
   ]
  },
  {
   "cell_type": "code",
   "execution_count": 4,
   "metadata": {},
   "outputs": [
    {
     "data": {
      "application/vnd.jupyter.widget-view+json": {
       "model_id": "2315feedadfa44c3a340021f8a0b38ee",
       "version_major": 2,
       "version_minor": 0
      },
      "text/plain": [
       "Fetching 8 files:   0%|          | 0/8 [00:00<?, ?it/s]"
      ]
     },
     "metadata": {},
     "output_type": "display_data"
    }
   ],
   "source": [
    "from mlx_lm import load, generate\n",
    "\n",
    "model, tokenizer = load(\"mlx-community/quantized-gemma-7b-it\")"
   ]
  },
  {
   "cell_type": "code",
   "execution_count": 5,
   "metadata": {},
   "outputs": [
    {
     "name": "stderr",
     "output_type": "stream",
     "text": [
      "Calculating differences: 100%|██████████| 201/201 [19:18<00:00,  5.76s/it]\n"
     ]
    }
   ],
   "source": [
    "import numpy as np\n",
    "from tqdm import tqdm\n",
    "import matplotlib.pyplot as plt\n",
    "\n",
    "# Calculate the differences between original and cleaned lengths\n",
    "differences = []\n",
    "new_data = []\n",
    "for chunk in tqdm(chunks, desc=\"Calculating differences\"):\n",
    "    prompt = f\"<start_of_turn>user Clean the following data so that only relevant content remains and unneccessary signs are removed. Do not make stuff up on your own: {chunk} <start_of_turn>model Sure, here is the cleaned data:\"\n",
    "    response = generate(model, tokenizer, prompt=prompt, verbose=False, max_tokens=2000)\n",
    "    differences.append(len(response) / len(chunk))\n",
    "    new_data.append(response)"
   ]
  },
  {
   "cell_type": "code",
   "execution_count": 6,
   "metadata": {},
   "outputs": [
    {
     "data": {
      "image/png": "[encoded data removed]",
      "text/plain": [
       "<Figure size 800x600 with 1 Axes>"
      ]
     },
     "metadata": {},
     "output_type": "display_data"
    }
   ],
   "source": [
    "# Calculate the average difference\n",
    "average_difference = np.mean(differences)\n",
    "\n",
    "# Calculate the top and bottom 90% differences\n",
    "top_90_percentile = np.percentile(differences, 90)\n",
    "bottom_90_percentile = np.percentile(differences, 10)\n",
    "\n",
    "# Plot the differences\n",
    "plt.figure(figsize=(8, 6))\n",
    "plt.hist(differences, bins=30, color='skyblue', edgecolor='black')\n",
    "plt.axvline(average_difference, color='red', linestyle='dashed', linewidth=2, label='Average Difference')\n",
    "plt.axvline(top_90_percentile, color='green', linestyle='dashed', linewidth=2, label='Top 90% Difference')\n",
    "plt.axvline(bottom_90_percentile, color='orange', linestyle='dashed', linewidth=2, label='Bottom 90% Difference')\n",
    "plt.xlabel('Difference in Length')\n",
    "plt.ylabel('Frequency')\n",
    "plt.title('Difference in Length between Original and Cleaned Data')\n",
    "plt.legend()\n",
    "plt.show()"
   ]
  },
  {
   "cell_type": "code",
   "execution_count": 7,
   "metadata": {},
   "outputs": [
    {
     "name": "stderr",
     "output_type": "stream",
     "text": [
      "Seperating into senseful chunks: 100%|██████████| 101/101 [13:36<00:00,  8.08s/it]\n"
     ]
    }
   ],
   "source": [
    "import re\n",
    "new_text = \"\\n\".join(new_data)\n",
    "chunks = split_text_into_chunks(new_text, int(num_chunks / 2))\n",
    "# chunks = split_text_into_chunks(new_text, 5)\n",
    "\n",
    "chapter_text = []\n",
    "for chunk in tqdm(chunks, desc=\"Seperating into senseful chunks\"):\n",
    "    prompt = f\"<start_of_turn>user Add /chapter at every headline, where a new chapter begins: {chunk} <start_of_turn>model Sure, here is the seperated text:\"\n",
    "    response = generate(model, tokenizer, prompt=prompt, verbose=False, max_tokens=2000)\n",
    "    chapter_text.append(response)"
   ]
  },
  {
   "cell_type": "code",
   "execution_count": 8,
   "metadata": {},
   "outputs": [],
   "source": [
    "new_text = \"\\n\".join(chapter_text)\n",
    "# Split the text 2 indices before every mention of \"chapter\" into a list of strings\n",
    "split_text = re.split(r\"(?<=\\bChapter\\b)\", new_text)\n",
    "\n",
    "# Remove leading and trailing whitespaces from each string\n",
    "split_text = [text.strip() for text in split_text]"
   ]
  },
  {
   "cell_type": "markdown",
   "metadata": {},
   "source": [
    "### Embedding Function\n",
    "for ChromaDB"
   ]
  },
  {
   "cell_type": "code",
   "execution_count": null,
   "metadata": {},
   "outputs": [],
   "source": []
  },
  {
   "cell_type": "markdown",
   "metadata": {},
   "source": [
    "### Data Loading\n",
    "Loading the data into ChromaDB"
   ]
  },
  {
   "cell_type": "code",
   "execution_count": 9,
   "metadata": {},
   "outputs": [],
   "source": [
    "import chromadb\n",
    "from chromadb.utils import embedding_functions # This helps us fetch our embedding model\n",
    "\n",
    "embedding_model = embedding_functions.SentenceTransformerEmbeddingFunction(model_name=\"thenlper/gte-large\")\n",
    "client = chromadb.PersistentClient(path=\"./chromadb\")\n",
    "\n",
    "ids = [f\"Tutorial_{i}\" for i in range(len(split_text))]\n",
    "metadata = [{\"id\": f\"Tutorial_{i}\"} for i in range(len(split_text))]\n",
    "\n",
    "collection_exists = \"Green-AI\" in [collection.name for collection in client.list_collections()]\n",
    "if not collection_exists:\n",
    "    collection = client.create_collection(\n",
    "        name=f\"Green-AI\",\n",
    "        metadata={\"hnsw:space\": \"cosine\"}, # l2 is the default\n",
    "        embedding_function=embedding_model,\n",
    "    )\n",
    "    collection.add(\n",
    "        documents=split_text,\n",
    "        metadatas=metadata,\n",
    "        ids=ids,\n",
    "    )"
   ]
  },
  {
   "cell_type": "markdown",
   "metadata": {},
   "source": [
    "### Benchmarking"
   ]
  },
  {
   "cell_type": "code",
   "execution_count": 134,
   "metadata": {},
   "outputs": [
    {
     "name": "stderr",
     "output_type": "stream",
     "text": [
      "Generating questions: 125it [02:36,  1.25s/it]\n"
     ]
    }
   ],
   "source": [
    "data = collection.get()\n",
    "questions = []\n",
    "for id, document in tqdm(zip(data[\"ids\"], data[\"documents\"]), desc=\"Generating questions\"):\n",
    "    prompt = f\"<start_of_turn>user Create a specific question for this text: {document} <start_of_turn>model Sure, here is the question:\"\n",
    "    question = generate(model, tokenizer, prompt=prompt, verbose=False, max_tokens=1000)\n",
    "    question = question.replace(\"\\n\", \"\")\n",
    "    question = question.replace(\"*\", \"\")\n",
    "    questions.append(question)"
   ]
  },
  {
   "cell_type": "code",
   "execution_count": 140,
   "metadata": {},
   "outputs": [
    {
     "name": "stdout",
     "output_type": "stream",
     "text": [
      "How does the \"File\" and \"Method\" concepts in Python differ from the \"Open built-in function\" and how do they relate to each other?\n",
      "How does the text describe the use of lists as queues and the recommended solution for implementing a queue in Python?\n",
      "How does the concept of a virtual environment and a virtual machine relate to the Zen of Python principles?\n",
      "How does Python's high-level data types allow you to express complex operations in a single statement?\n",
      "Explain the key differences between tuples and lists in Python, as described in the text.\n"
     ]
    }
   ],
   "source": [
    "import random\n",
    "random_questions = random.sample(questions, 5)\n",
    "for question in random_questions:\n",
    "    print(question)"
   ]
  },
  {
   "cell_type": "code",
   "execution_count": 156,
   "metadata": {},
   "outputs": [
    {
     "data": {
      "text/plain": [
       "{1: 0.824, 2: 0.896, 3: 0.928, 4: 0.944, 5: 0.944}"
      ]
     },
     "execution_count": 156,
     "metadata": {},
     "output_type": "execute_result"
    }
   ],
   "source": [
    "accuracies = {}\n",
    "lengths = [1, 2, 3, 4, 5]\n",
    "for n_results in lengths:\n",
    "    datapoints = []\n",
    "    for id, question in zip(data[\"ids\"], questions):\n",
    "        results = collection.query(query_texts=question, n_results=n_results)\n",
    "        result_ids = results[\"ids\"][0]\n",
    "        if id in result_ids:\n",
    "            datapoints.append(1)\n",
    "        else:\n",
    "            datapoints.append(0)\n",
    "\n",
    "    accuracies[n_results] = sum(datapoints) / len(datapoints)\n",
    "accuracies"
   ]
  },
  {
   "cell_type": "code",
   "execution_count": 155,
   "metadata": {},
   "outputs": [
    {
     "data": {
      "image/png": "[encoded data removed]",
      "text/plain": [
       "<Figure size 500x300 with 1 Axes>"
      ]
     },
     "metadata": {},
     "output_type": "display_data"
    }
   ],
   "source": [
    "x = list(accuracies.keys())\n",
    "y = [value * 100 for value in list(accuracies.values())]\n",
    "\n",
    "plt.figure(figsize=(5, 3))\n",
    "plt.plot(x, y, marker='o', linestyle='-', color='b')\n",
    "plt.title('Plot of Percentages')\n",
    "plt.xlabel('X-axis')\n",
    "plt.ylabel('Percentage')\n",
    "plt.ylim(50, 100)  # Set y-axis limits to show percentages clearly\n",
    "plt.grid(True)\n",
    "plt.xticks(x)  # Ensure all x-axis values are shown\n",
    "plt.show()"
   ]
  },
  {
   "cell_type": "markdown",
   "metadata": {},
   "source": [
    "### RAG Class\n",
    "Document retrieval and prompt engineering"
   ]
  },
  {
   "cell_type": "code",
   "execution_count": 129,
   "metadata": {},
   "outputs": [],
   "source": [
    "class RAG:\n",
    "\n",
    "    def __init__(self, model, tokenizer, collection) -> None:\n",
    "        self.model = model\n",
    "        self.tokenizer = tokenizer\n",
    "        self.collection = collection\n",
    "\n",
    "    def query(self, prompt, n_results=1):\n",
    "        return self.collection.query(query_texts=prompt, n_results=n_results)\n",
    "    \n",
    "    def query_advanced(self, prompt, n_results=1):\n",
    "        improv_prompt = f\"<start_of_turn>user You are a assistant. Answer the following question: {prompt} <start_of_turn>model Sure, here is your answer:\"\n",
    "        improv_output = generate(self.model, self.tokenizer, prompt=improv_prompt, verbose=False, max_tokens=1000)\n",
    "        result = self.collection.query(\n",
    "            query_texts=improv_output,\n",
    "            n_results=n_results,\n",
    "        )\n",
    "        return result\n",
    "\n",
    "    def generate_text(self, prompt: str) -> str:\n",
    "        improv_prompt = f\"<start_of_turn>user You are a assistant. Answer the following question: {prompt} <start_of_turn>model Sure, here is your answer:\"\n",
    "        improv_output = generate(self.model, self.tokenizer, prompt=improv_prompt, verbose=False, max_tokens=1000)\n",
    "        result = self.collection.query(\n",
    "            query_texts=improv_output,\n",
    "            n_results=3,\n",
    "        )\n",
    "        documents = ' '.join(result[\"documents\"][0])\n",
    "        prompt = f\"<start_of_turn>user You are a assistant. Answer the following question based on the following knowledge base. Knowledge Base: {documents}\\n Question: {prompt} <start_of_turn>model \"\n",
    "        output = generate(self.model, self.tokenizer, prompt=prompt, verbose=False, max_tokens=1000)\n",
    "        return output\n",
    "    \n",
    "    def generate_text_naive(self, prompt: str) -> str:\n",
    "        result = self.collection.query(\n",
    "            query_texts=prompt,\n",
    "            n_results=3,\n",
    "        )\n",
    "        documents = ' '.join(result[\"documents\"][0])\n",
    "        prompt = f\"<start_of_turn>user You are a assistant. Answer the following question based on the following knowledge base. Knowledge Base: {documents}\\n Question: {prompt} <start_of_turn>model \"\n",
    "        output = generate(self.model, self.tokenizer, prompt=prompt, verbose=False, max_tokens=1000)\n",
    "        return output"
   ]
  },
  {
   "cell_type": "markdown",
   "metadata": {},
   "source": [
    "### LLM Generating Answers\n",
    "Including a Chat Interface"
   ]
  },
  {
   "cell_type": "code",
   "execution_count": 106,
   "metadata": {},
   "outputs": [
    {
     "name": "stdout",
     "output_type": "stream",
     "text": [
      "\n",
      "\n",
      "The text provided does not describe how to use String Pattern Matching in Python, therefore I cannot answer the question.\n",
      "\n",
      "\n",
      "\n",
      " New Document \n",
      "\n",
      "\n",
      "\n",
      "\n",
      "\n",
      "The text does not mention String Pattern Matching in Python, therefore I cannot answer this question.\n"
     ]
    }
   ],
   "source": [
    "rag = RAG(model, tokenizer, collection)\n",
    "print(rag.generate_text(\"How do I use String Pattern Matching in Python?\"))\n",
    "print(\"\\n\\n\\n New Document \\n\\n\\n\")\n",
    "print(rag.generate_text_naive(\"How do I use String Pattern Matching in Python?\"))"
   ]
  },
  {
   "cell_type": "markdown",
   "metadata": {},
   "source": [
    "### Benchmarking\n",
    "Benchmarking the retrieval process by automatically generating specific questions for each chunk and testing, whether the right document is retrieved."
   ]
  }
 ],
 "metadata": {
  "kernelspec": {
   "display_name": "python_rag",
   "language": "python",
   "name": "python3"
  },
  "language_info": {
   "codemirror_mode": {
    "name": "ipython",
    "version": 3
   },
   "file_extension": ".py",
   "mimetype": "text/x-python",
   "name": "python",
   "nbconvert_exporter": "python",
   "pygments_lexer": "ipython3",
   "version": "3.10.13"
  }
 },
 "nbformat": 4,
 "nbformat_minor": 2
}
